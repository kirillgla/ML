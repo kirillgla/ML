{
 "cells": [
  {
   "cell_type": "code",
   "execution_count": 1,
   "metadata": {},
   "outputs": [],
   "source": [
    "import numpy as np\n",
    "import csv"
   ]
  },
  {
   "cell_type": "markdown",
   "metadata": {},
   "source": [
    "## Data preprocessing"
   ]
  },
  {
   "cell_type": "code",
   "execution_count": 2,
   "metadata": {},
   "outputs": [
    {
     "name": "stdout",
     "output_type": "stream",
     "text": [
      "Data file: 1/4\n",
      "Data file: 2/4\n",
      "Data file: 3/4\n",
      "Data file: 4/4\n"
     ]
    }
   ],
   "source": [
    "combined_data_file_name = \"./netflix-prize-data/combined_data_%s.txt\"\n",
    "\n",
    "target_f = open(\"./netflix-prize-data/processed_data.csv\", \"w+\")\n",
    "for i in {1,2,3,4}:\n",
    "    print(\"Data file: \" + str(i) + \"/4\")\n",
    "    \n",
    "    cur_movie_id = None\n",
    "    with open(combined_data_file_name % i) as csv_file:\n",
    "        csv_reader = csv.reader(csv_file, delimiter=',')\n",
    "\n",
    "        for row in csv_reader:\n",
    "            if (len(row) == 1):\n",
    "                cur_movie_id = row[0][:-1]\n",
    "            else:\n",
    "                user_id = row[0]\n",
    "                rating = row[1]\n",
    "                \n",
    "                target_f.write(user_id + \",\" + rating + \",\" + cur_movie_id + \"\\n\")\n",
    "target_f.close()"
   ]
  },
  {
   "cell_type": "code",
   "execution_count": null,
   "metadata": {},
   "outputs": [],
   "source": []
  }
 ],
 "metadata": {
  "kernelspec": {
   "display_name": "Python 3",
   "language": "python",
   "name": "python3"
  },
  "language_info": {
   "codemirror_mode": {
    "name": "ipython",
    "version": 3
   },
   "file_extension": ".py",
   "mimetype": "text/x-python",
   "name": "python",
   "nbconvert_exporter": "python",
   "pygments_lexer": "ipython3",
   "version": "3.7.6"
  }
 },
 "nbformat": 4,
 "nbformat_minor": 4
}