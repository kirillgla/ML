{
 "cells": [
  {
   "cell_type": "code",
   "execution_count": 2,
   "metadata": {
    "collapsed": true
   },
   "outputs": [],
   "source": [
    "import numpy as np\n",
    "import pandas as pd\n",
    "\n",
    "from sklearn.model_selection import KFold\n",
    "from sklearn.utils import shuffle\n",
    "from sklearn.preprocessing import OneHotEncoder\n",
    "from scipy.sparse import hstack, diags"
   ]
  },
  {
   "cell_type": "code",
   "execution_count": 4,
   "outputs": [],
   "source": [
    "csv = \"netflix-prize-data/processed_data.csv\"\n",
    "names = [\"user_id\", \"film_rating\", \"film_id\"]\n",
    "\n",
    "data = pd.read_csv(csv, header=None, names=names, nrows=2000000)\n",
    "one_hot_encoder = OneHotEncoder(categories=\"auto\")\n",
    "\n",
    "user_ids = one_hot_encoder.fit_transform(np.asarray(data['user_id']).reshape(-1,1))\n",
    "film_ids = one_hot_encoder.fit_transform(np.asarray(data['film_id']).reshape(-1,1))\n",
    "\n",
    "X = hstack([np.ones(shape=(2000000, 1)), user_ids, film_ids]).tocsr()\n",
    "y = np.asarray(data['film_rating']).reshape(-1,1)\n",
    "\n",
    "X,y = shuffle(X,y)"
   ],
   "metadata": {
    "collapsed": false,
    "pycharm": {
     "name": "#%%\n"
    }
   }
  },
  {
   "cell_type": "code",
   "execution_count": 6,
   "outputs": [],
   "source": [
    "def mean_square_error(Y, previous_Y):\n",
    "    return np.sum(np.square(Y - previous_Y)) / len(Y)\n",
    "\n",
    "def sqrt_mean_square_error(Y, previous_Y):\n",
    "    return np.sqrt(mean_square_error(Y, previous_Y))\n",
    "\n",
    "# Also known as R^2\n",
    "def coefficient_of_determination(Y, previous_Y):\n",
    "    return 1 - (np.sum(np.square(Y - previous_Y))) / (np.sum(np.square(Y - Y.mean())))"
   ],
   "metadata": {
    "collapsed": false,
    "pycharm": {
     "name": "#%%\n"
    }
   }
  },
  {
   "cell_type": "code",
   "execution_count": 7,
   "outputs": [],
   "source": [
    "def predict(X, w, V):\n",
    "    first = np.sum(np.square(X.dot(V)), axis=1)\n",
    "    second = np.sum(X.power(2).dot(np.square(V)), axis=1)\n",
    "    return X.dot(w) + 0.5 * (first - second).reshape(-1,1)"
   ],
   "metadata": {
    "collapsed": false,
    "pycharm": {
     "name": "#%%\n"
    }
   }
  },
  {
   "cell_type": "code",
   "execution_count": 8,
   "outputs": [],
   "source": [
    "def step(X, y, w, V):\n",
    "    w += (0.1 / len(y)) * X.T.dot(y - X.dot(w))\n",
    "    XV = X.dot(V)\n",
    "    y_pred = predict(X, w, V)\n",
    "    for index in range(V.shape[1]):\n",
    "        first_diagonal = diags(np.array(XV)[:, index])\n",
    "        first = first_diagonal.dot(X)\n",
    "        second_diagonal = diags(V[:, index])\n",
    "        second = X.power(2).dot(second_diagonal)\n",
    "        V[:, index] += (0.1 / X.shape[1]) * (first - second).T.dot(y - y_pred).reshape((-1,))\n",
    "    return w, V"
   ],
   "metadata": {
    "collapsed": false,
    "pycharm": {
     "name": "#%%\n"
    }
   }
  },
  {
   "cell_type": "code",
   "execution_count": 9,
   "outputs": [],
   "source": [
    "number_of_splits = 5\n",
    "number_of_epochs = 100\n",
    "factors_num = 2"
   ],
   "metadata": {
    "collapsed": false,
    "pycharm": {
     "name": "#%%\n"
    }
   }
  },
  {
   "cell_type": "code",
   "execution_count": 10,
   "outputs": [],
   "source": [
    "def gradient_descent(X, y, w_iniitial, V_initial):\n",
    "    w = w_iniitial\n",
    "    V = V_initial\n",
    "    mean_square_error_values = list()\n",
    "    for epoch in range(number_of_epochs):\n",
    "        w_next, V_next = step(X, y, w, V)\n",
    "        y_pred = predict(X, w_next, V_next)\n",
    "        mean_square_error_values.append(mean_square_error(y, y_pred))\n",
    "        if epoch % 10 == 0:\n",
    "            print(f\"\\tEpoch: {epoch}, MSE: {mean_square_error_values[epoch]}\")\n",
    "        w = w_next\n",
    "        V = V_next\n",
    "    return w, V, mean_square_error_values"
   ],
   "metadata": {
    "collapsed": false,
    "pycharm": {
     "name": "#%%\n"
    }
   }
  },
  {
   "cell_type": "code",
   "execution_count": 11,
   "outputs": [
    {
     "name": "stdout",
     "output_type": "stream",
     "text": [
      "Running split option 0\n",
      "\tEpoch: 0, MSE: 11.734313699819602\n",
      "\tEpoch: 10, MSE: 2.3619593620436503\n",
      "\tEpoch: 20, MSE: 1.2801839683178302\n",
      "\tEpoch: 30, MSE: 1.153748522176937\n",
      "\tEpoch: 40, MSE: 1.1374705494637778\n",
      "\tEpoch: 50, MSE: 1.1339617304143517\n",
      "\tEpoch: 60, MSE: 1.1319960591278535\n",
      "\tEpoch: 70, MSE: 1.13027563110919\n",
      "\tEpoch: 80, MSE: 1.128646798006961\n",
      "\tEpoch: 90, MSE: 1.127088053990099\n",
      "Running split option 1\n",
      "\tEpoch: 0, MSE: 11.73546220874112\n",
      "\tEpoch: 10, MSE: 2.3614663248477337\n",
      "\tEpoch: 20, MSE: 1.279525922255409\n",
      "\tEpoch: 30, MSE: 1.1530661648786928\n",
      "\tEpoch: 40, MSE: 1.1367773232563732\n",
      "\tEpoch: 50, MSE: 1.1332594362845319\n",
      "\tEpoch: 60, MSE: 1.1312854582239456\n",
      "\tEpoch: 70, MSE: 1.1295573567081487\n",
      "\tEpoch: 80, MSE: 1.1279214284217849\n",
      "\tEpoch: 90, MSE: 1.1263561204740453\n",
      "Running split option 2\n",
      "\tEpoch: 0, MSE: 11.735155584215853\n",
      "\tEpoch: 10, MSE: 2.362076523535126\n",
      "\tEpoch: 20, MSE: 1.2802477828580066\n",
      "\tEpoch: 30, MSE: 1.153808999435701\n",
      "\tEpoch: 40, MSE: 1.1375303891437187\n",
      "\tEpoch: 50, MSE: 1.1340209656290465\n",
      "\tEpoch: 60, MSE: 1.1320547246634203\n",
      "\tEpoch: 70, MSE: 1.1303337870596857\n",
      "\tEpoch: 80, MSE: 1.1287045010733678\n",
      "\tEpoch: 90, MSE: 1.1271453516891299\n",
      "Running split option 3\n",
      "\tEpoch: 0, MSE: 11.733609917680386\n",
      "\tEpoch: 10, MSE: 2.3615857505142586\n",
      "\tEpoch: 20, MSE: 1.2798085310021479\n",
      "\tEpoch: 30, MSE: 1.153361855562129\n",
      "\tEpoch: 40, MSE: 1.1370755115582132\n",
      "\tEpoch: 50, MSE: 1.1335596721383887\n",
      "\tEpoch: 60, MSE: 1.131587775406453\n",
      "\tEpoch: 70, MSE: 1.1298617664799715\n",
      "\tEpoch: 80, MSE: 1.128227930814994\n",
      "\tEpoch: 90, MSE: 1.1266647134937724\n",
      "Running split option 4\n",
      "\tEpoch: 0, MSE: 11.733119776489334\n",
      "\tEpoch: 10, MSE: 2.3628867950598837\n",
      "\tEpoch: 20, MSE: 1.2813470171858798\n",
      "\tEpoch: 30, MSE: 1.1549308363947144\n",
      "\tEpoch: 40, MSE: 1.138647755038101\n",
      "\tEpoch: 50, MSE: 1.1351314954256506\n",
      "\tEpoch: 60, MSE: 1.1331585504772093\n",
      "\tEpoch: 70, MSE: 1.1314312695450162\n",
      "\tEpoch: 80, MSE: 1.1297960026142682\n",
      "\tEpoch: 90, MSE: 1.128231215290711\n"
     ]
    }
   ],
   "source": [
    "mean_square_error_values     = [0 for _ in range(number_of_splits)]\n",
    "weights    = [0 for _ in range(number_of_splits)]\n",
    "factors    = [0 for _ in range(number_of_splits)]\n",
    "rmse_train = [0 for _ in range(number_of_splits)]\n",
    "rmse_test  = [0 for _ in range(number_of_splits)]\n",
    "r2s_train  = [0 for _ in range(number_of_splits)]\n",
    "r2s_test   = [0 for _ in range(number_of_splits)]\n",
    "\n",
    "kf = KFold(n_splits=number_of_splits, shuffle=True)\n",
    "kf.get_n_splits(X)\n",
    "\n",
    "for index, (train_subset, test_subset) in enumerate(kf.split(X)):\n",
    "    print(f\"Running split option {index}\")\n",
    "    X_train, X_test = X[train_subset], X[test_subset]\n",
    "    y_train, y_test = y[train_subset], y[test_subset]\n",
    "    w_iniitial = np.zeros((X.shape[1], 1))\n",
    "    V_initial = np.zeros((X.shape[1], factors_num))\n",
    "    results = gradient_descent(X_train, y_train, w_iniitial, V_initial)\n",
    "    weights[index], factors[index], mean_square_error_values[index] = results\n",
    "    train_preds = predict(X_train, weights[index], factors[index])\n",
    "    test_preds = predict(X_test, weights[index], factors[index])\n",
    "    rmse_train[index] = sqrt_mean_square_error(y_train, train_preds)\n",
    "    rmse_test[index] = sqrt_mean_square_error(y_test, test_preds)\n",
    "    r2s_train[index] = coefficient_of_determination(y_train, train_preds)\n",
    "    r2s_test[index] = coefficient_of_determination(y_test, test_preds)"
   ],
   "metadata": {
    "collapsed": false,
    "pycharm": {
     "name": "#%%\n"
    }
   }
  },
  {
   "cell_type": "code",
   "execution_count": 12,
   "outputs": [
    {
     "name": "stdout",
     "output_type": "stream",
     "text": [
      "Populating the interactive namespace from numpy and matplotlib\n"
     ]
    },
    {
     "name": "stderr",
     "output_type": "stream",
     "text": [
      "/home/kirill/anaconda3/envs/scientificProject/lib/python3.8/site-packages/IPython/core/magics/pylab.py:159: UserWarning: pylab import has clobbered these variables: ['shuffle', 'hstack', 'step']\n",
      "`%matplotlib` prevents importing * from pylab and numpy\n",
      "  warn(\"pylab import has clobbered these variables: %s\"  % clobbered +\n"
     ]
    },
    {
     "data": {
      "text/plain": "<Figure size 432x288 with 1 Axes>",
      "image/png": "[encoded data removed]"
     },
     "metadata": {
      "needs_background": "light"
     },
     "output_type": "display_data"
    }
   ],
   "source": [
    "%pylab inline\n",
    "for error_by_iter in mean_square_error_values:\n",
    "    plot(range(len(error_by_iter)), error_by_iter)\n",
    "    xlabel('Iteration')\n",
    "    ylabel('MSE')"
   ],
   "metadata": {
    "collapsed": false,
    "pycharm": {
     "name": "#%%\n"
    }
   }
  },
  {
   "cell_type": "code",
   "execution_count": 13,
   "outputs": [],
   "source": [
    "columns = [\"Names\"]\n",
    "columns += [f\"T{i + 1}\" for i in range(number_of_splits)]\n",
    "columns.append(\"Mean\")\n",
    "columns.append(\"Std\")\n",
    "\n",
    "rows =  [\"RMSE train\", \"RMSE test\", \"R2 train\", \"R2 test\"]\n",
    "rows += [f\"Feature {i + 1}\" for i in range(len(weights[0]))]"
   ],
   "metadata": {
    "collapsed": false,
    "pycharm": {
     "name": "#%%\n"
    }
   }
  },
  {
   "cell_type": "code",
   "execution_count": 15,
   "outputs": [],
   "source": [
    "result = pd.DataFrame(columns=columns)\n",
    "result[\"Names\"] = rows\n",
    "result.set_index(\"Names\", inplace=True)\n",
    "\n",
    "for i in range(number_of_splits):\n",
    "    data = np.concatenate(([rmse_train[i], rmse_test[i], r2s_train[i], r2s_test[i]], weights[i].reshape((-1,))))\n",
    "    result[f\"T{i + 1}\"] = data\n",
    "\n",
    "result[\"Mean\"] = result.mean(axis=1)\n",
    "result[\"Std\"] = result.std(axis=1)"
   ],
   "metadata": {
    "collapsed": false,
    "pycharm": {
     "name": "#%%\n"
    }
   }
  },
  {
   "cell_type": "code",
   "execution_count": 16,
   "outputs": [
    {
     "data": {
      "text/plain": "                      T1        T2        T3        T4        T5      Mean  \\\nNames                                                                        \nRMSE train      1.061009  1.060661  1.061036  1.060808  1.061545  1.061012   \nRMSE test       1.061072  1.062367  1.060954  1.061834  1.058889  1.061023   \nR2 train        0.025487  0.025570  0.025536  0.025578  0.025531  0.025540   \nR2 test         0.025664  0.025503  0.025488  0.025379  0.025551  0.025517   \nFeature 1       3.531299  3.531551  3.531324  3.531233  3.530868  3.531255   \n...                  ...       ...       ...       ...       ...       ...   \nFeature 342803  0.087042  0.087367  0.087157  0.085839  0.087376  0.086956   \nFeature 342804  0.005003  0.005260  0.005059  0.005207  0.005373  0.005180   \nFeature 342805  0.021801  0.022372  0.021702  0.021408  0.021558  0.021768   \nFeature 342806 -0.008951 -0.008453 -0.008821 -0.008846 -0.009155 -0.008845   \nFeature 342807  0.018844  0.018753  0.018279  0.018755  0.019168  0.018760   \n\n                     Std  \nNames                     \nRMSE train      0.000300  \nRMSE test       0.001185  \nR2 train        0.000032  \nR2 test         0.000093  \nFeature 1       0.000221  \n...                  ...  \nFeature 342803  0.000573  \nFeature 342804  0.000134  \nFeature 342805  0.000330  \nFeature 342806  0.000229  \nFeature 342807  0.000285  \n\n[342811 rows x 7 columns]",
      "text/html": "<div>\n<style scoped>\n    .dataframe tbody tr th:only-of-type {\n        vertical-align: middle;\n    }\n\n    .dataframe tbody tr th {\n        vertical-align: top;\n    }\n\n    .dataframe thead th {\n        text-align: right;\n    }\n</style>\n<table border=\"1\" class=\"dataframe\">\n  <thead>\n    <tr style=\"text-align: right;\">\n      <th></th>\n      <th>T1</th>\n      <th>T2</th>\n      <th>T3</th>\n      <th>T4</th>\n      <th>T5</th>\n      <th>Mean</th>\n      <th>Std</th>\n    </tr>\n    <tr>\n      <th>Names</th>\n      <th></th>\n      <th></th>\n      <th></th>\n      <th></th>\n      <th></th>\n      <th></th>\n      <th></th>\n    </tr>\n  </thead>\n  <tbody>\n    <tr>\n      <th>RMSE train</th>\n      <td>1.061009</td>\n      <td>1.060661</td>\n      <td>1.061036</td>\n      <td>1.060808</td>\n      <td>1.061545</td>\n      <td>1.061012</td>\n      <td>0.000300</td>\n    </tr>\n    <tr>\n      <th>RMSE test</th>\n      <td>1.061072</td>\n      <td>1.062367</td>\n      <td>1.060954</td>\n      <td>1.061834</td>\n      <td>1.058889</td>\n      <td>1.061023</td>\n      <td>0.001185</td>\n    </tr>\n    <tr>\n      <th>R2 train</th>\n      <td>0.025487</td>\n      <td>0.025570</td>\n      <td>0.025536</td>\n      <td>0.025578</td>\n      <td>0.025531</td>\n      <td>0.025540</td>\n      <td>0.000032</td>\n    </tr>\n    <tr>\n      <th>R2 test</th>\n      <td>0.025664</td>\n      <td>0.025503</td>\n      <td>0.025488</td>\n      <td>0.025379</td>\n      <td>0.025551</td>\n      <td>0.025517</td>\n      <td>0.000093</td>\n    </tr>\n    <tr>\n      <th>Feature 1</th>\n      <td>3.531299</td>\n      <td>3.531551</td>\n      <td>3.531324</td>\n      <td>3.531233</td>\n      <td>3.530868</td>\n      <td>3.531255</td>\n      <td>0.000221</td>\n    </tr>\n    <tr>\n      <th>...</th>\n      <td>...</td>\n      <td>...</td>\n      <td>...</td>\n      <td>...</td>\n      <td>...</td>\n      <td>...</td>\n      <td>...</td>\n    </tr>\n    <tr>\n      <th>Feature 342803</th>\n      <td>0.087042</td>\n      <td>0.087367</td>\n      <td>0.087157</td>\n      <td>0.085839</td>\n      <td>0.087376</td>\n      <td>0.086956</td>\n      <td>0.000573</td>\n    </tr>\n    <tr>\n      <th>Feature 342804</th>\n      <td>0.005003</td>\n      <td>0.005260</td>\n      <td>0.005059</td>\n      <td>0.005207</td>\n      <td>0.005373</td>\n      <td>0.005180</td>\n      <td>0.000134</td>\n    </tr>\n    <tr>\n      <th>Feature 342805</th>\n      <td>0.021801</td>\n      <td>0.022372</td>\n      <td>0.021702</td>\n      <td>0.021408</td>\n      <td>0.021558</td>\n      <td>0.021768</td>\n      <td>0.000330</td>\n    </tr>\n    <tr>\n      <th>Feature 342806</th>\n      <td>-0.008951</td>\n      <td>-0.008453</td>\n      <td>-0.008821</td>\n      <td>-0.008846</td>\n      <td>-0.009155</td>\n      <td>-0.008845</td>\n      <td>0.000229</td>\n    </tr>\n    <tr>\n      <th>Feature 342807</th>\n      <td>0.018844</td>\n      <td>0.018753</td>\n      <td>0.018279</td>\n      <td>0.018755</td>\n      <td>0.019168</td>\n      <td>0.018760</td>\n      <td>0.000285</td>\n    </tr>\n  </tbody>\n</table>\n<p>342811 rows × 7 columns</p>\n</div>"
     },
     "execution_count": 16,
     "metadata": {},
     "output_type": "execute_result"
    }
   ],
   "source": [
    "result"
   ],
   "metadata": {
    "collapsed": false,
    "pycharm": {
     "name": "#%%\n"
    }
   }
  }
 ],
 "metadata": {
  "kernelspec": {
   "display_name": "Python 3",
   "language": "python",
   "name": "python3"
  },
  "language_info": {
   "codemirror_mode": {
    "name": "ipython",
    "version": 2
   },
   "file_extension": ".py",
   "mimetype": "text/x-python",
   "name": "python",
   "nbconvert_exporter": "python",
   "pygments_lexer": "ipython2",
   "version": "2.7.6"
  }
 },
 "nbformat": 4,
 "nbformat_minor": 0
}