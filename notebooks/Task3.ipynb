{
 "cells": [
  {
   "cell_type": "code",
   "execution_count": 28,
   "outputs": [],
   "source": [
    "import pandas as pd\n",
    "import numpy as np\n",
    "\n",
    "from collections import defaultdict"
   ],
   "metadata": {
    "collapsed": false,
    "pycharm": {
     "name": "#%%\n"
    }
   }
  },
  {
   "cell_type": "code",
   "execution_count": 29,
   "outputs": [],
   "source": [
    "def get_similarity_matrix(source, preference_func):\n",
    "    func = lambda i, j: -np.sum(np.square(source[i] - source[j]))\n",
    "    similiarity_matrix = np.fromfunction(np.vectorize(func), (source.shape[0], source.shape[0]), dtype=int)\n",
    "    np.fill_diagonal(similiarity_matrix, preference_func(similiarity_matrix))\n",
    "    return similiarity_matrix\n",
    "\n",
    "def responsibility(s, a, i, k, mask):\n",
    "    mask[k] = False\n",
    "    result = s[i][k] - np.amax(a[i][mask] + s[i][mask])\n",
    "    mask[k] = True\n",
    "    return result\n",
    "\n",
    "def availability(i, k, r, mask):\n",
    "    mask[k] = False\n",
    "    mask[i] = False\n",
    "    column = r[:, k] * mask\n",
    "    result = np.sum(column[column > 0]) if i == k else min(0, r[k][k] + np.sum(column[column > 0]))\n",
    "    mask[k] = True\n",
    "    mask[i] = True\n",
    "    return result\n",
    "\n",
    "def run_affinity_propagation(source_matrix, preference_func, iterations=10):\n",
    "    s = get_similarity_matrix(source_matrix, preference_func)\n",
    "    a = np.zeros((s.shape[0], s.shape[0]), dtype=int)\n",
    "    c = np.zeros((s.shape[0], s.shape[0]), dtype=int)\n",
    "\n",
    "    mask = np.full(s.shape[0], True, dtype=bool)\n",
    "\n",
    "    for iteration in range(iterations):\n",
    "        print(f\"Iteration {iteration + 1}\")\n",
    "        r = np.fromfunction(\n",
    "            np.vectorize(lambda i, k: responsibility(s, a, i, k, mask)),\n",
    "            (s.shape[0], s.shape[0]),\n",
    "            dtype=int\n",
    "        )\n",
    "        a = np.fromfunction(\n",
    "            np.vectorize(lambda i, k: availability(i, k, r, mask)),\n",
    "            (r.shape[0], r.shape[0]),\n",
    "            dtype=int\n",
    "        )\n",
    "        c = r + a\n",
    "    return np.argmax(c, axis=1)"
   ],
   "metadata": {
    "collapsed": false,
    "pycharm": {
     "name": "#%%\n"
    }
   }
  },
  {
   "cell_type": "code",
   "execution_count": 32,
   "outputs": [],
   "source": [
    "adjacency = np.zeros((1000, 1000), dtype=int)\n",
    "\n",
    "with open(\"Gowalla_edges.txt\") as network_file:\n",
    "    for line in network_file:\n",
    "        line = line.strip()\n",
    "        a, b = map(int, line.split())\n",
    "\n",
    "        if a < 1000 and b < 1000:\n",
    "            adjacency[a][b] = 1\n",
    "            adjacency[b][a] = 1"
   ],
   "metadata": {
    "collapsed": false,
    "pycharm": {
     "name": "#%%\n"
    }
   }
  },
  {
   "cell_type": "code",
   "execution_count": 33,
   "outputs": [
    {
     "name": "stdout",
     "output_type": "stream",
     "text": [
      "Iteration 1\n",
      "Total number of clusters is 115\n"
     ]
    },
    {
     "data": {
      "text/plain": "   User                  Time   Latitude  Longitude    Place\n0     0  2010-10-19T23:55:27Z  30.235909 -97.795140    22847\n1     0  2010-10-18T22:17:43Z  30.269103 -97.749395   420315\n2     0  2010-10-17T23:42:03Z  30.255731 -97.763386   316637\n3     0  2010-10-17T19:26:05Z  30.263418 -97.757597    16516\n4     0  2010-10-16T18:50:42Z  30.274292 -97.740523  5535878",
      "text/html": "<div>\n<style scoped>\n    .dataframe tbody tr th:only-of-type {\n        vertical-align: middle;\n    }\n\n    .dataframe tbody tr th {\n        vertical-align: top;\n    }\n\n    .dataframe thead th {\n        text-align: right;\n    }\n</style>\n<table border=\"1\" class=\"dataframe\">\n  <thead>\n    <tr style=\"text-align: right;\">\n      <th></th>\n      <th>User</th>\n      <th>Time</th>\n      <th>Latitude</th>\n      <th>Longitude</th>\n      <th>Place</th>\n    </tr>\n  </thead>\n  <tbody>\n    <tr>\n      <th>0</th>\n      <td>0</td>\n      <td>2010-10-19T23:55:27Z</td>\n      <td>30.235909</td>\n      <td>-97.795140</td>\n      <td>22847</td>\n    </tr>\n    <tr>\n      <th>1</th>\n      <td>0</td>\n      <td>2010-10-18T22:17:43Z</td>\n      <td>30.269103</td>\n      <td>-97.749395</td>\n      <td>420315</td>\n    </tr>\n    <tr>\n      <th>2</th>\n      <td>0</td>\n      <td>2010-10-17T23:42:03Z</td>\n      <td>30.255731</td>\n      <td>-97.763386</td>\n      <td>316637</td>\n    </tr>\n    <tr>\n      <th>3</th>\n      <td>0</td>\n      <td>2010-10-17T19:26:05Z</td>\n      <td>30.263418</td>\n      <td>-97.757597</td>\n      <td>16516</td>\n    </tr>\n    <tr>\n      <th>4</th>\n      <td>0</td>\n      <td>2010-10-16T18:50:42Z</td>\n      <td>30.274292</td>\n      <td>-97.740523</td>\n      <td>5535878</td>\n    </tr>\n  </tbody>\n</table>\n</div>"
     },
     "execution_count": 33,
     "metadata": {},
     "output_type": "execute_result"
    }
   ],
   "source": [
    "propagation_results = run_affinity_propagation(adjacency, iterations=1, preference_func=np.min)\n",
    "number_of_clusters = len(np.unique(propagation_results))\n",
    "print(f\"Total number of clusters is {number_of_clusters}\")\n",
    "clusters = defaultdict(list)\n",
    "for i, entry in enumerate(propagation_results):\n",
    "    clusters[entry].append(i)\n",
    "checkins = pd.read_csv(\"Gowalla_totalCheckins.txt\", delimiter = \"\\t\", index_col=False, names = [\"User\", \"Time\", \"Latitude\", \"Longitude\", \"Place\"])\n",
    "checkins.head()"
   ],
   "metadata": {
    "collapsed": false,
    "pycharm": {
     "name": "#%%\n"
    }
   }
  },
  {
   "cell_type": "code",
   "execution_count": null,
   "outputs": [],
   "source": [
    "test_user_data = np.random.choice(1000, 100, replace = False)\n",
    "average_percentage = 0\n",
    "for test_user in test_user_data:\n",
    "    user_cluster = propagation_results[test_user]\n",
    "    user_places  = defaultdict(int)\n",
    "\n",
    "    for user in clusters[user_cluster]:\n",
    "        if test_user != user:\n",
    "            for place in pd.unique(checkins[checkins[\"User\"] == user][\"Place\"]):\n",
    "                user_places[place] += 1\n",
    "\n",
    "    top_places = sorted(user_places, key=user_places.get, reverse=True)[:10]\n",
    "\n",
    "    matches = 0\n",
    "    for place in top_places:\n",
    "        if place in checkins[checkins[\"User\"] == test_user][\"Place\"]:\n",
    "            matches += 1\n",
    "\n",
    "    user_percentage = matches * 10  # (matches / 10) * 100\n",
    "    average_percentage += user_percentage\n",
    "\n",
    "average_percentage /= len(test_user_data)\n",
    "print(f\"Average match percentage: {average_percentage}%\")"
   ],
   "metadata": {
    "collapsed": false,
    "pycharm": {
     "name": "#%%\n"
    }
   }
  }
 ],
 "metadata": {
  "kernelspec": {
   "display_name": "Python 3",
   "language": "python",
   "name": "python3"
  },
  "language_info": {
   "codemirror_mode": {
    "name": "ipython",
    "version": 2
   },
   "file_extension": ".py",
   "mimetype": "text/x-python",
   "name": "python",
   "nbconvert_exporter": "python",
   "pygments_lexer": "ipython2",
   "version": "2.7.6"
  }
 },
 "nbformat": 4,
 "nbformat_minor": 0
}